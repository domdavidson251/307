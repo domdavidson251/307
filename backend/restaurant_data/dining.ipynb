{
 "cells": [
  {
   "cell_type": "code",
   "execution_count": 48,
   "metadata": {},
   "outputs": [],
   "source": [
    "import pandas as pd\n",
    "df_dining = pd.read_csv(\"dining.csv\")\n",
    "df_dining = df_dining.rename(columns={\"Name\": \"Menu Item\"})"
   ]
  },
  {
   "cell_type": "code",
   "execution_count": 22,
   "metadata": {},
   "outputs": [],
   "source": [
    "import json\n",
    "df_dining[\"Menu Item\"]\n",
    "df = df_dining[[\"Restaurant\", \"Menu Item\"]]\n",
    "j = (df.groupby(['Restaurant'])\n",
    "       .apply(lambda x: x[['Menu Item']].to_dict('records'))\n",
    "       .reset_index()\n",
    "       .rename(columns={0: 'Menu'})\n",
    "       .to_json(orient='records'))\n",
    "with open('dining.json', 'w') as outfile:\n",
    "       outfile.write(j)\n"
   ]
  },
  {
   "cell_type": "code",
   "execution_count": 72,
   "metadata": {},
   "outputs": [
    {
     "name": "stdout",
     "output_type": "stream",
     "text": [
      "Campus Market\n",
      "/static/c0deefbbb61b5defeba95ebba4e6bef0/fca97/Campus-Market.webp\n",
      "Kennedy Library Neighborhood\n",
      "Chick Fil A Pop Up\n",
      "/static/84948d40574b41f6a3bd9572d0c44c59/971e6/Chick-Fil-A-Pop-Up.webp\n",
      "Poly Canyon Village Neighborhood\n"
     ]
    },
    {
     "data": {
      "text/plain": [
       "<pymongo.results.UpdateResult at 0x7f99ce86bd30>"
      ]
     },
     "execution_count": 72,
     "metadata": {},
     "output_type": "execute_result"
    }
   ],
   "source": [
    "import requests\n",
    "import time\n",
    "from bs4 import BeautifulSoup\n",
    "from pymongo_get_database import get_database\n",
    "import string\n",
    "\n",
    "dbname = get_database()\n",
    "restaurant = dbname.restaurants_list\n",
    "#restaurant.update_one({\"name\": \"Balance Café\"}, {\"$set\":{\"location\" : \"Vista Grande Dining Complex\", \"image\": \"/static/4be16692abeea65f3d465e7021bc7b5c/6aada/balance-cafe-logo.webp\"}})\n",
    "\n",
    "response = requests.get(\"https://calpolydining.com/restaurants/\")\n",
    "soup = BeautifulSoup(response.content, \"html.parser\")\n",
    "locations = soup.find_all(\"div\", {\"class\": \"logos-component-wrap\"})\n",
    "for loc in locations:\n",
    "    rest_location = loc.find(\"h2\").text\n",
    "    restaurants = loc.find_all(\"div\",  {\"class\": \"logos-wrap\"})\n",
    "    for rest in restaurants:\n",
    "        rest_url = rest.find(\"a\", {\"class\": \"logo-link\"})['href'][12:].split(\"/\")[1].translate(str.maketrans(string.punctuation, ' '*len(string.punctuation)))\n",
    "        img_url = rest.find(\"source\", {\"type\": \"image/webp\"})[\"data-srcset\"].split()[0]\n",
    "        rest_url = str.title(rest_url)\n",
    "        if (rest_url[0] == 'C'):\n",
    "            print(rest_url)\n",
    "            print(img_url)\n",
    "            print(rest_location)\n",
    "            \n",
    "\n"
   ]
  }
 ],
 "metadata": {
  "kernelspec": {
   "display_name": "Python 3.8.2 64-bit",
   "language": "python",
   "name": "python3"
  },
  "language_info": {
   "codemirror_mode": {
    "name": "ipython",
    "version": 3
   },
   "file_extension": ".py",
   "mimetype": "text/x-python",
   "name": "python",
   "nbconvert_exporter": "python",
   "pygments_lexer": "ipython3",
   "version": "3.8.2"
  },
  "orig_nbformat": 4,
  "vscode": {
   "interpreter": {
    "hash": "aee8b7b246df8f9039afb4144a1f6fd8d2ca17a180786b69acc140d282b71a49"
   }
  }
 },
 "nbformat": 4,
 "nbformat_minor": 2
}
