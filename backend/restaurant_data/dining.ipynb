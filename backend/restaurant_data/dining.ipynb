{
 "cells": [
  {
   "cell_type": "code",
   "execution_count": 48,
   "metadata": {},
   "outputs": [],
   "source": [
    "import pandas as pd\n",
    "df_dining = pd.read_csv(\"dining.csv\")\n",
    "df_dining = df_dining.rename(columns={\"Name\": \"Menu Item\"})"
   ]
  },
  {
   "cell_type": "code",
   "execution_count": 22,
   "metadata": {},
   "outputs": [],
   "source": [
    "import json\n",
    "df_dining[\"Menu Item\"]\n",
    "df = df_dining[[\"Restaurant\", \"Menu Item\"]]\n",
    "j = (df.groupby(['Restaurant'])\n",
    "       .apply(lambda x: x[['Menu Item']].to_dict('records'))\n",
    "       .reset_index()\n",
    "       .rename(columns={0: 'Menu'})\n",
    "       .to_json(orient='records'))\n",
    "with open('dining.json', 'w') as outfile:\n",
    "       outfile.write(j)\n"
   ]
  }
 ],
 "metadata": {
  "kernelspec": {
   "display_name": "Python 3.8.2 64-bit",
   "language": "python",
   "name": "python3"
  },
  "language_info": {
   "codemirror_mode": {
    "name": "ipython",
    "version": 3
   },
   "file_extension": ".py",
   "mimetype": "text/x-python",
   "name": "python",
   "nbconvert_exporter": "python",
   "pygments_lexer": "ipython3",
   "version": "3.8.2"
  },
  "orig_nbformat": 4,
  "vscode": {
   "interpreter": {
    "hash": "aee8b7b246df8f9039afb4144a1f6fd8d2ca17a180786b69acc140d282b71a49"
   }
  }
 },
 "nbformat": 4,
 "nbformat_minor": 2
}
