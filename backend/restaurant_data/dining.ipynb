{
 "cells": [
  {
   "cell_type": "code",
   "execution_count": 48,
   "metadata": {},
   "outputs": [],
   "source": [
    "import pandas as pd\n",
    "df_dining = pd.read_csv(\"dining.csv\")\n",
    "df_dining = df_dining.rename(columns={\"Name\": \"Menu Item\"})"
   ]
  },
  {
   "cell_type": "code",
   "execution_count": 22,
   "metadata": {},
   "outputs": [],
   "source": [
    "import json\n",
    "df_dining[\"Menu Item\"]\n",
    "df = df_dining[[\"Restaurant\", \"Menu Item\"]]\n",
    "j = (df.groupby(['Restaurant'])\n",
    "       .apply(lambda x: x[['Menu Item']].to_dict('records'))\n",
    "       .reset_index()\n",
    "       .rename(columns={0: 'Menu'})\n",
    "       .to_json(orient='records'))\n",
    "with open('dining.json', 'w') as outfile:\n",
    "       outfile.write(j)\n"
   ]
  },
  {
   "cell_type": "code",
   "execution_count": 33,
   "metadata": {},
   "outputs": [
    {
     "name": "stdout",
     "output_type": "stream",
     "text": [
      "https://calpolydining.com/restaurants/balance-cafe/\n",
      "https://calpolydining.com/restaurants/brunch/\n",
      "https://calpolydining.com/restaurants/hearth/\n",
      "https://calpolydining.com/restaurants/jamba/\n",
      "https://calpolydining.com/restaurants/market-grand-ave/\n",
      "https://calpolydining.com/restaurants/mingle-nosh/\n",
      "https://calpolydining.com/restaurants/noodles/\n",
      "https://calpolydining.com/restaurants/streats/\n",
      "https://calpolydining.com/restaurants/sweet-bar/\n",
      "https://calpolydining.com/restaurants/vista-grande-express/\n",
      "https://calpolydining.com/restaurants/scout-coffee-co/\n",
      "https://calpolydining.com/restaurants/market-uu/\n",
      "https://calpolydining.com/restaurants/mustang-station/\n",
      "https://calpolydining.com/restaurants/red-radish/\n",
      "https://calpolydining.com/restaurants/shake-smart/\n",
      "https://calpolydining.com/restaurants/starbucks-uu/\n",
      "https://calpolydining.com/restaurants/campus-market/\n",
      "https://calpolydining.com/restaurants/health-shack/\n",
      "https://calpolydining.com/restaurants/julians-cafe-bistro/\n",
      "https://calpolydining.com/restaurants/mustang-eats/\n",
      "https://calpolydining.com/restaurants/starbucks/\n",
      "https://calpolydining.com/restaurants/subway/\n",
      "https://calpolydining.com/restaurants/chick-fil-a-pop-up/\n",
      "https://calpolydining.com/restaurants/einstein-bros-bagels/\n",
      "https://calpolydining.com/restaurants/market-poly-canyon/\n",
      "https://calpolydining.com/restaurants/subway-pcv/\n",
      "https://calpolydining.com/restaurants/g-brothers-smokehouse/\n",
      "https://calpolydining.com/restaurants/g-brothers-taqueria/\n",
      "https://calpolydining.com/restaurants/jewel-of-india/\n",
      "https://calpolydining.com/restaurants/plant-ivy/\n",
      "https://calpolydining.com/restaurants/slo-dog/\n",
      "https://calpolydining.com/restaurants/sequel/\n",
      "https://calpolydining.com/restaurants/starbucks-truck/\n",
      "https://calpolydining.com/restaurants/yabba-dabba-dogs/\n"
     ]
    }
   ],
   "source": [
    "import requests\n",
    "from bs4 import BeautifulSoup\n",
    "\n",
    "response = requests.get(\"https://calpolydining.com/restaurants/\")\n",
    "soup = BeautifulSoup(response.content, \"html.parser\")\n",
    "restaurants = soup.find_all(\"div\",  {\"class\": \"logos-wrap\"})\n",
    "for rest in restaurants:\n",
    "    rest_url = \"https://calpolydining.com\" + rest.find(\"a\", {\"class\": \"logo-link\"})['href']\n",
    "    img_url = rest.find(\"source\", {\"type\": \"image/webp\"})[\"data-srcset\"].split()[0]\n",
    "    rest_response = requests.get(rest_url)\n",
    "    stew = BeautifulSoup(rest_response.content, \"html.parser\")\n",
    "\n"
   ]
  }
 ],
 "metadata": {
  "kernelspec": {
   "display_name": "Python 3.8.2 64-bit",
   "language": "python",
   "name": "python3"
  },
  "language_info": {
   "codemirror_mode": {
    "name": "ipython",
    "version": 3
   },
   "file_extension": ".py",
   "mimetype": "text/x-python",
   "name": "python",
   "nbconvert_exporter": "python",
   "pygments_lexer": "ipython3",
   "version": "3.8.2"
  },
  "orig_nbformat": 4,
  "vscode": {
   "interpreter": {
    "hash": "aee8b7b246df8f9039afb4144a1f6fd8d2ca17a180786b69acc140d282b71a49"
   }
  }
 },
 "nbformat": 4,
 "nbformat_minor": 2
}
